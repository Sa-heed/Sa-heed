{
  "nbformat": 4,
  "nbformat_minor": 0,
  "metadata": {
    "colab": {
      "name": "Air Madrid.ipynb",
      "provenance": [],
      "authorship_tag": "ABX9TyPxAAvUlWmYoAYqRC8O+w/R",
      "include_colab_link": true
    },
    "kernelspec": {
      "name": "python3",
      "display_name": "Python 3"
    },
    "language_info": {
      "name": "python"
    }
  },
  "cells": [
    {
      "cell_type": "markdown",
      "metadata": {
        "id": "view-in-github",
        "colab_type": "text"
      },
      "source": [
        "<a href=\"https://colab.research.google.com/github/Sa-heed/Sa-heed/blob/main/Air_Madrid.ipynb\" target=\"_parent\"><img src=\"https://colab.research.google.com/assets/colab-badge.svg\" alt=\"Open In Colab\"/></a>"
      ]
    },
    {
      "cell_type": "code",
      "source": [
        "#important library\n",
        "import pandas as pd\n",
        "import glob\n",
        "import matplotlib.pyplot as plt\n",
        "import numpy as np\n",
        "import seaborn as sns"
      ],
      "metadata": {
        "id": "FbpR2f_YUlKN"
      },
      "execution_count": null,
      "outputs": []
    },
    {
      "cell_type": "code",
      "source": [
        "# loading all csv file names\n",
        "files = glob.glob(\"csvs_per_year/*.csv\")\n",
        "# reading csv files\n",
        "for index,file in enumerate(files):\n",
        "    files[index] = pd.read_csv(file,index_col='date',parse_dates=['date'])\n",
        "# merging all csv files\n",
        "df = pd.concat(files)\n",
        "df.info()"
      ],
      "metadata": {
        "id": "2UbxTp4TUqd-"
      },
      "execution_count": null,
      "outputs": []
    }
  ]
}